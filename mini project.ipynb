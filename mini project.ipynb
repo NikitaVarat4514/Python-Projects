{
 "cells": [
  {
   "cell_type": "code",
   "execution_count": 5,
   "id": "cd8e6987-fd29-4ea6-bc50-9812f5e43911",
   "metadata": {},
   "outputs": [
    {
     "name": "stdout",
     "output_type": "stream",
     "text": [
      "Hello Welcome To Python Resto\n",
      "Menu \n",
      " Pav Bhaji:₹150 \n",
      " Chole Bhature:₹149\n",
      " Gol Gappa:₹70 \n",
      " Bhel Puri:₹80 \n",
      " Pani Puri : ₹50\n",
      " Samosa:₹30 \n",
      " Chaat:₹100 \n",
      " Vada Pav:₹30 \n",
      " Mirchi Vada:₹50 \n",
      " Jalebi : ₹100\n",
      "\n"
     ]
    },
    {
     "name": "stdin",
     "output_type": "stream",
     "text": [
      "Enter Your Order :  Vada Pav\n"
     ]
    },
    {
     "name": "stdout",
     "output_type": "stream",
     "text": [
      "Your Item Vada Pav Has Been Added To You Order \n"
     ]
    },
    {
     "name": "stdin",
     "output_type": "stream",
     "text": [
      "Anything Else ?: yes\n",
      "What You Want:  Chaat\n"
     ]
    },
    {
     "name": "stdout",
     "output_type": "stream",
     "text": [
      "Your Chaat Has Been Added To Cart\n",
      "The Total Amount Of Item To Pay Is 130\n"
     ]
    }
   ],
   "source": [
    "Menu  = {\n",
    "    \"Pav Bhaji\": 150,\n",
    "    \"Chole Bhature\": 200,\n",
    "    \"Gol Gappa\": 50,\n",
    "    \"Kulfi\": 100,\n",
    "    \"Bhel Puri\": 80,\n",
    "    \"Pani Puri\": 50,\n",
    "    \"Samosa\": 30,\n",
    "    \"Chaat\": 100,\n",
    "    \"Vada Pav\": 30,\n",
    "    \"Mirchi Vada\": 50,\n",
    "    \"Jalebi\": 100\n",
    "}  # create a menu \n",
    "\n",
    "\n",
    "#salutation \n",
    "print(\"Hello Welcome To Python Resto\")\n",
    "\n",
    "print(\"Menu \\n Pav Bhaji:₹150 \\n Chole Bhature:₹149\\n Gol Gappa:₹70 \\n Bhel Puri:₹80 \\n Pani Puri : ₹50\\n Samosa:₹30 \\n Chaat:₹100 \\n Vada Pav:₹30 \\n Mirchi Vada:₹50 \\n Jalebi : ₹100\\n\")\n",
    "\n",
    "\n",
    "\n",
    "order_total = 0 # initial order \n",
    "\n",
    "# aks to customers \n",
    "\n",
    "item_1 = input(\"Enter Your Order : \") #takken 1st order \n",
    "\n",
    "if item_1 in Menu: #  check it item in your menu its a avlbl ot not \n",
    "    order_total += Menu[item_1] # atleast one order is added usin +=\n",
    "    print(f\"Your Item {item_1} Has Been Added To You Order \")  # f means formatingstring \n",
    "\n",
    "else:\n",
    "    print(f\"Your Order {item_1} Is Not Available Yet\") #if item is not avaliable show this stat\n",
    "\n",
    "another_item = input(\"Anything Else ?:\") # ask for another item\n",
    "if another_item == 'yes':                # if \"yes\"\n",
    "    item_2 = input(\"What You Want: \")    # ask what you want\n",
    "    if item_2 in Menu:                  # check item in menu\n",
    "        order_total += Menu[item_2]      # total bill 1st bill + 2nd bill\n",
    "        print(f\"Your {item_2} Has Been Added To Cart\")      # oder is added to cart\n",
    "    else:\n",
    "        print(f\"Your Order {item_2} Is Not Available Yet\")  # if item is not avaliable \n",
    "\n",
    "print(f\"The Total Amount Of Item To Pay Is {order_total}\")     # show total bill of order"
   ]
  }
 ],
 "metadata": {
  "kernelspec": {
   "display_name": "Python 3 (ipykernel)",
   "language": "python",
   "name": "python3"
  },
  "language_info": {
   "codemirror_mode": {
    "name": "ipython",
    "version": 3
   },
   "file_extension": ".py",
   "mimetype": "text/x-python",
   "name": "python",
   "nbconvert_exporter": "python",
   "pygments_lexer": "ipython3",
   "version": "3.12.3"
  }
 },
 "nbformat": 4,
 "nbformat_minor": 5
}
